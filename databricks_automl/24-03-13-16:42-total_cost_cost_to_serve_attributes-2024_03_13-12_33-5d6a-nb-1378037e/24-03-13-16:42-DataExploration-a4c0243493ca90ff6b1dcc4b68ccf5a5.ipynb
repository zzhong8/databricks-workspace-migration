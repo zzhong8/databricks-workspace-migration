{
 "cells": [
  {
   "cell_type": "markdown",
   "metadata": {
    "application/vnd.databricks.v1+cell": {
     "cellMetadata": {},
     "inputWidgets": {},
     "nuid": "94ff6c6e-83bf-4399-acd3-78b785323bc3",
     "showTitle": false,
     "title": ""
    }
   },
   "source": [
    "# Data Exploration\n",
    "- This notebook performs exploratory data analysis on the dataset.\n",
    "- To expand on the analysis, attach this notebook to a cluster with runtime version **13.3.x-cpu-ml-scala2.12**,\n",
    "edit [the options of pandas-profiling](https://pandas-profiling.ydata.ai/docs/master/rtd/pages/advanced_usage.html), and rerun it.\n",
    "- Explore completed trials in the [MLflow experiment](#mlflow/experiments/280107289088053)."
   ]
  },
  {
   "cell_type": "code",
   "execution_count": 0,
   "metadata": {
    "application/vnd.databricks.v1+cell": {
     "cellMetadata": {},
     "inputWidgets": {},
     "nuid": "ceac0f74-3a5a-4f00-99db-2da77ce4b1a4",
     "showTitle": false,
     "title": ""
    },
    "execution": {
     "iopub.execute_input": "2024-03-13T16:42:31.773712Z",
     "iopub.status.busy": "2024-03-13T16:42:31.773509Z",
     "iopub.status.idle": "2024-03-13T16:42:32.656037Z",
     "shell.execute_reply": "2024-03-13T16:42:32.655026Z"
    }
   },
   "outputs": [],
   "source": [
    "import mlflow\n",
    "import os\n",
    "import uuid\n",
    "import shutil\n",
    "import pandas as pd\n",
    "import databricks.automl_runtime\n",
    "\n",
    "# Download input data from mlflow into a pandas DataFrame\n",
    "# Create temporary directory to download data\n",
    "temp_dir = os.path.join(os.environ[\"SPARK_LOCAL_DIRS\"], \"tmp\", str(uuid.uuid4())[:8])\n",
    "os.makedirs(temp_dir)\n",
    "\n",
    "# Download the artifact and read it\n",
    "training_data_path = mlflow.artifacts.download_artifacts(run_id=\"2b0a0df14c394c408de231d83bc741e6\", artifact_path=\"data\", dst_path=temp_dir)\n",
    "df = pd.read_parquet(os.path.join(training_data_path, \"training_data\"))\n",
    "\n",
    "# Delete the temporary data\n",
    "shutil.rmtree(temp_dir)\n",
    "\n",
    "target_col = \"total_cost\"\n",
    "\n",
    "# Drop columns created by AutoML before pandas-profiling\n",
    "df = df.drop(['_automl_split_col_0000'], axis=1)"
   ]
  },
  {
   "cell_type": "markdown",
   "metadata": {
    "application/vnd.databricks.v1+cell": {
     "cellMetadata": {},
     "inputWidgets": {},
     "nuid": "c1c93b82-574d-4d02-9047-2bc1e1d41247",
     "showTitle": false,
     "title": ""
    }
   },
   "source": [
    "## Profiling Results"
   ]
  },
  {
   "cell_type": "code",
   "execution_count": 0,
   "metadata": {
    "application/vnd.databricks.v1+cell": {
     "cellMetadata": {},
     "inputWidgets": {},
     "nuid": "420d7b00-9fe6-4a70-8c6c-cd3163c8e83a",
     "showTitle": false,
     "title": ""
    },
    "execution": {
     "iopub.execute_input": "2024-03-13T16:42:32.659995Z",
     "iopub.status.busy": "2024-03-13T16:42:32.659795Z",
     "iopub.status.idle": "2024-03-13T16:42:52.128976Z",
     "shell.execute_reply": "2024-03-13T16:42:52.127947Z"
    },
    "large_display_output": true
   },
   "outputs": [],
   "source": [
    "from ydata_profiling import ProfileReport\n",
    "df_profile = ProfileReport(df,\n",
    "                           correlations={\n",
    "                               \"auto\": {\"calculate\": True},\n",
    "                               \"pearson\": {\"calculate\": True},\n",
    "                               \"spearman\": {\"calculate\": True},\n",
    "                               \"kendall\": {\"calculate\": True},\n",
    "                               \"phi_k\": {\"calculate\": True},\n",
    "                               \"cramers\": {\"calculate\": True},\n",
    "                           }, title=\"Profiling Report\", progress_bar=False, infer_dtypes=False)\n",
    "profile_html = df_profile.to_html()\n",
    "\n",
    "displayHTML(profile_html)"
   ]
  }
 ],
 "metadata": {
  "application/vnd.databricks.v1+notebook": {
   "dashboards": [],
   "environmentMetadata": null,
   "language": "python",
   "notebookMetadata": {
    "pythonIndentUnit": 2
   },
   "notebookName": "24-03-13-16:42-DataExploration-a4c0243493ca90ff6b1dcc4b68ccf5a5",
   "widgets": {}
  },
  "language_info": {
   "codemirror_mode": {
    "name": "ipython",
    "version": 3
   },
   "file_extension": ".py",
   "mimetype": "text/x-python",
   "name": "python",
   "nbconvert_exporter": "python",
   "pygments_lexer": "ipython3",
   "version": "3.10.12"
  },
  "name": "DataExploration-a4c0243493ca90ff6b1dcc4b68ccf5a5"
 },
 "nbformat": 4,
 "nbformat_minor": 0
}
