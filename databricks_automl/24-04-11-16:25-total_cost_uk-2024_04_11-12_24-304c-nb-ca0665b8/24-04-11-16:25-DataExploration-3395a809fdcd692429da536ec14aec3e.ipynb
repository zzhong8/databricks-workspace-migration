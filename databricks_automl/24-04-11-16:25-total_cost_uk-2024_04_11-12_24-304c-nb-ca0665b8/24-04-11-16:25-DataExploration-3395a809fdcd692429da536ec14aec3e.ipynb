{
 "cells": [
  {
   "cell_type": "markdown",
   "metadata": {
    "application/vnd.databricks.v1+cell": {
     "cellMetadata": {},
     "inputWidgets": {},
     "nuid": "f2245077-5946-48dc-83b1-5fc8b08c5869",
     "showTitle": false,
     "title": ""
    }
   },
   "source": [
    "# Data Exploration\n",
    "- This notebook performs exploratory data analysis on the dataset.\n",
    "- To expand on the analysis, attach this notebook to a cluster with runtime version **13.3.x-cpu-ml-scala2.12**,\n",
    "edit [the options of pandas-profiling](https://pandas-profiling.ydata.ai/docs/master/rtd/pages/advanced_usage.html), and rerun it.\n",
    "- Explore completed trials in the [MLflow experiment](#mlflow/experiments/1545502703638788)."
   ]
  },
  {
   "cell_type": "code",
   "execution_count": 0,
   "metadata": {
    "application/vnd.databricks.v1+cell": {
     "cellMetadata": {},
     "inputWidgets": {},
     "nuid": "f14dfdbe-816b-4dba-91a6-012bc76a64d1",
     "showTitle": false,
     "title": ""
    },
    "execution": {
     "iopub.execute_input": "2024-04-11T16:25:58.388955Z",
     "iopub.status.busy": "2024-04-11T16:25:58.388560Z",
     "iopub.status.idle": "2024-04-11T16:25:59.235010Z",
     "shell.execute_reply": "2024-04-11T16:25:59.233751Z"
    }
   },
   "outputs": [],
   "source": [
    "import mlflow\n",
    "import os\n",
    "import uuid\n",
    "import shutil\n",
    "import pandas as pd\n",
    "import databricks.automl_runtime\n",
    "\n",
    "# Download input data from mlflow into a pandas DataFrame\n",
    "# Create temporary directory to download data\n",
    "temp_dir = os.path.join(os.environ[\"SPARK_LOCAL_DIRS\"], \"tmp\", str(uuid.uuid4())[:8])\n",
    "os.makedirs(temp_dir)\n",
    "\n",
    "# Download the artifact and read it\n",
    "training_data_path = mlflow.artifacts.download_artifacts(run_id=\"def5ad853ad74b6f939948f8d8180e6f\", artifact_path=\"data\", dst_path=temp_dir)\n",
    "df = pd.read_parquet(os.path.join(training_data_path, \"training_data\"))\n",
    "\n",
    "# Delete the temporary data\n",
    "shutil.rmtree(temp_dir)\n",
    "\n",
    "target_col = \"total_cost\"\n",
    "\n",
    "# Drop columns created by AutoML before pandas-profiling\n",
    "df = df.drop(['_automl_split_col_0000'], axis=1)"
   ]
  },
  {
   "cell_type": "markdown",
   "metadata": {
    "application/vnd.databricks.v1+cell": {
     "cellMetadata": {},
     "inputWidgets": {},
     "nuid": "3b32824a-fdee-4164-9705-f9f66f7667d8",
     "showTitle": false,
     "title": ""
    }
   },
   "source": [
    "## Profiling Results"
   ]
  },
  {
   "cell_type": "code",
   "execution_count": 0,
   "metadata": {
    "application/vnd.databricks.v1+cell": {
     "cellMetadata": {},
     "inputWidgets": {},
     "nuid": "ff668f07-a807-4d65-bbf4-bf0aa7ddcb11",
     "showTitle": false,
     "title": ""
    },
    "execution": {
     "iopub.execute_input": "2024-04-11T16:25:59.239232Z",
     "iopub.status.busy": "2024-04-11T16:25:59.239026Z",
     "iopub.status.idle": "2024-04-11T16:26:08.828191Z",
     "shell.execute_reply": "2024-04-11T16:26:08.827150Z"
    },
    "large_display_output": true
   },
   "outputs": [],
   "source": [
    "from ydata_profiling import ProfileReport\n",
    "df_profile = ProfileReport(df,\n",
    "                           correlations={\n",
    "                               \"auto\": {\"calculate\": True},\n",
    "                               \"pearson\": {\"calculate\": True},\n",
    "                               \"spearman\": {\"calculate\": True},\n",
    "                               \"kendall\": {\"calculate\": True},\n",
    "                               \"phi_k\": {\"calculate\": True},\n",
    "                               \"cramers\": {\"calculate\": True},\n",
    "                           }, title=\"Profiling Report\", progress_bar=False, infer_dtypes=False)\n",
    "profile_html = df_profile.to_html()\n",
    "\n",
    "displayHTML(profile_html)"
   ]
  }
 ],
 "metadata": {
  "application/vnd.databricks.v1+notebook": {
   "dashboards": [],
   "environmentMetadata": null,
   "language": "python",
   "notebookMetadata": {},
   "notebookName": "24-04-11-16:25-DataExploration-3395a809fdcd692429da536ec14aec3e",
   "widgets": {}
  },
  "language_info": {
   "codemirror_mode": {
    "name": "ipython",
    "version": 3
   },
   "file_extension": ".py",
   "mimetype": "text/x-python",
   "name": "python",
   "nbconvert_exporter": "python",
   "pygments_lexer": "ipython3",
   "version": "3.10.12"
  },
  "name": "DataExploration-3395a809fdcd692429da536ec14aec3e",
  "widgets": {
   "application/vnd.jupyter.widget-state+json": {
    "state": {
     "1934549688884ed78e3c784c586bf2d7": {
      "model_module": "@jupyter-widgets/base",
      "model_module_version": "1.2.0",
      "model_name": "LayoutModel",
      "state": {
       "_model_module": "@jupyter-widgets/base",
       "_model_module_version": "1.2.0",
       "_model_name": "LayoutModel",
       "_view_count": null,
       "_view_module": "@jupyter-widgets/base",
       "_view_module_version": "1.2.0",
       "_view_name": "LayoutView",
       "align_content": null,
       "align_items": null,
       "align_self": null,
       "border": null,
       "bottom": null,
       "display": null,
       "flex": null,
       "flex_flow": null,
       "grid_area": null,
       "grid_auto_columns": null,
       "grid_auto_flow": null,
       "grid_auto_rows": null,
       "grid_column": null,
       "grid_gap": null,
       "grid_row": null,
       "grid_template_areas": null,
       "grid_template_columns": null,
       "grid_template_rows": null,
       "height": null,
       "justify_content": null,
       "justify_items": null,
       "left": null,
       "margin": null,
       "max_height": null,
       "max_width": null,
       "min_height": null,
       "min_width": null,
       "object_fit": null,
       "object_position": null,
       "order": null,
       "overflow": null,
       "overflow_x": null,
       "overflow_y": null,
       "padding": null,
       "right": null,
       "top": null,
       "visibility": null,
       "width": null
      }
     },
     "1beff8ce850544808823d60d7bf06dd9": {
      "model_module": "@jupyter-widgets/controls",
      "model_module_version": "1.5.0",
      "model_name": "DescriptionStyleModel",
      "state": {
       "_model_module": "@jupyter-widgets/controls",
       "_model_module_version": "1.5.0",
       "_model_name": "DescriptionStyleModel",
       "_view_count": null,
       "_view_module": "@jupyter-widgets/base",
       "_view_module_version": "1.2.0",
       "_view_name": "StyleView",
       "description_width": ""
      }
     },
     "2d235bf5181d4d36923bd07b0ed508ee": {
      "model_module": "@jupyter-widgets/controls",
      "model_module_version": "1.5.0",
      "model_name": "ProgressStyleModel",
      "state": {
       "_model_module": "@jupyter-widgets/controls",
       "_model_module_version": "1.5.0",
       "_model_name": "ProgressStyleModel",
       "_view_count": null,
       "_view_module": "@jupyter-widgets/base",
       "_view_module_version": "1.2.0",
       "_view_name": "StyleView",
       "bar_color": null,
       "description_width": ""
      }
     },
     "41b99212013e410088c00f3567c7dde5": {
      "model_module": "@jupyter-widgets/controls",
      "model_module_version": "1.5.0",
      "model_name": "HTMLModel",
      "state": {
       "_dom_classes": [],
       "_model_module": "@jupyter-widgets/controls",
       "_model_module_version": "1.5.0",
       "_model_name": "HTMLModel",
       "_view_count": null,
       "_view_module": "@jupyter-widgets/controls",
       "_view_module_version": "1.5.0",
       "_view_name": "HTMLView",
       "description": "",
       "description_tooltip": null,
       "layout": "IPY_MODEL_be9104ce096e4b6988675d8f381b4119",
       "placeholder": "​",
       "style": "IPY_MODEL_1beff8ce850544808823d60d7bf06dd9",
       "value": " 1/1 [00:00&lt;00:00,  4.01it/s]"
      }
     },
     "45fb849b102e42cdb0dd745c04c11257": {
      "model_module": "@jupyter-widgets/controls",
      "model_module_version": "1.5.0",
      "model_name": "HBoxModel",
      "state": {
       "_dom_classes": [],
       "_model_module": "@jupyter-widgets/controls",
       "_model_module_version": "1.5.0",
       "_model_name": "HBoxModel",
       "_view_count": null,
       "_view_module": "@jupyter-widgets/controls",
       "_view_module_version": "1.5.0",
       "_view_name": "HBoxView",
       "box_style": "",
       "children": [
        "IPY_MODEL_ff54e0f201414b03bed7fe363a41fa3f",
        "IPY_MODEL_cd3cbff1531d4bd08c58385e8d36654d",
        "IPY_MODEL_41b99212013e410088c00f3567c7dde5"
       ],
       "layout": "IPY_MODEL_5e33eef2e42d40889ae903e3a2f798a4"
      }
     },
     "5e33eef2e42d40889ae903e3a2f798a4": {
      "model_module": "@jupyter-widgets/base",
      "model_module_version": "1.2.0",
      "model_name": "LayoutModel",
      "state": {
       "_model_module": "@jupyter-widgets/base",
       "_model_module_version": "1.2.0",
       "_model_name": "LayoutModel",
       "_view_count": null,
       "_view_module": "@jupyter-widgets/base",
       "_view_module_version": "1.2.0",
       "_view_name": "LayoutView",
       "align_content": null,
       "align_items": null,
       "align_self": null,
       "border": null,
       "bottom": null,
       "display": null,
       "flex": null,
       "flex_flow": null,
       "grid_area": null,
       "grid_auto_columns": null,
       "grid_auto_flow": null,
       "grid_auto_rows": null,
       "grid_column": null,
       "grid_gap": null,
       "grid_row": null,
       "grid_template_areas": null,
       "grid_template_columns": null,
       "grid_template_rows": null,
       "height": null,
       "justify_content": null,
       "justify_items": null,
       "left": null,
       "margin": null,
       "max_height": null,
       "max_width": null,
       "min_height": null,
       "min_width": null,
       "object_fit": null,
       "object_position": null,
       "order": null,
       "overflow": null,
       "overflow_x": null,
       "overflow_y": null,
       "padding": null,
       "right": null,
       "top": null,
       "visibility": null,
       "width": null
      }
     },
     "be9104ce096e4b6988675d8f381b4119": {
      "model_module": "@jupyter-widgets/base",
      "model_module_version": "1.2.0",
      "model_name": "LayoutModel",
      "state": {
       "_model_module": "@jupyter-widgets/base",
       "_model_module_version": "1.2.0",
       "_model_name": "LayoutModel",
       "_view_count": null,
       "_view_module": "@jupyter-widgets/base",
       "_view_module_version": "1.2.0",
       "_view_name": "LayoutView",
       "align_content": null,
       "align_items": null,
       "align_self": null,
       "border": null,
       "bottom": null,
       "display": null,
       "flex": null,
       "flex_flow": null,
       "grid_area": null,
       "grid_auto_columns": null,
       "grid_auto_flow": null,
       "grid_auto_rows": null,
       "grid_column": null,
       "grid_gap": null,
       "grid_row": null,
       "grid_template_areas": null,
       "grid_template_columns": null,
       "grid_template_rows": null,
       "height": null,
       "justify_content": null,
       "justify_items": null,
       "left": null,
       "margin": null,
       "max_height": null,
       "max_width": null,
       "min_height": null,
       "min_width": null,
       "object_fit": null,
       "object_position": null,
       "order": null,
       "overflow": null,
       "overflow_x": null,
       "overflow_y": null,
       "padding": null,
       "right": null,
       "top": null,
       "visibility": null,
       "width": null
      }
     },
     "cd3cbff1531d4bd08c58385e8d36654d": {
      "model_module": "@jupyter-widgets/controls",
      "model_module_version": "1.5.0",
      "model_name": "FloatProgressModel",
      "state": {
       "_dom_classes": [],
       "_model_module": "@jupyter-widgets/controls",
       "_model_module_version": "1.5.0",
       "_model_name": "FloatProgressModel",
       "_view_count": null,
       "_view_module": "@jupyter-widgets/controls",
       "_view_module_version": "1.5.0",
       "_view_name": "ProgressView",
       "bar_style": "success",
       "description": "",
       "description_tooltip": null,
       "layout": "IPY_MODEL_faab3111f84e40fc849ea8dce61b0410",
       "max": 1.0,
       "min": 0.0,
       "orientation": "horizontal",
       "style": "IPY_MODEL_2d235bf5181d4d36923bd07b0ed508ee",
       "value": 1.0
      }
     },
     "d61689eda4144af9b96848bf8a23cf79": {
      "model_module": "@jupyter-widgets/controls",
      "model_module_version": "1.5.0",
      "model_name": "DescriptionStyleModel",
      "state": {
       "_model_module": "@jupyter-widgets/controls",
       "_model_module_version": "1.5.0",
       "_model_name": "DescriptionStyleModel",
       "_view_count": null,
       "_view_module": "@jupyter-widgets/base",
       "_view_module_version": "1.2.0",
       "_view_name": "StyleView",
       "description_width": ""
      }
     },
     "faab3111f84e40fc849ea8dce61b0410": {
      "model_module": "@jupyter-widgets/base",
      "model_module_version": "1.2.0",
      "model_name": "LayoutModel",
      "state": {
       "_model_module": "@jupyter-widgets/base",
       "_model_module_version": "1.2.0",
       "_model_name": "LayoutModel",
       "_view_count": null,
       "_view_module": "@jupyter-widgets/base",
       "_view_module_version": "1.2.0",
       "_view_name": "LayoutView",
       "align_content": null,
       "align_items": null,
       "align_self": null,
       "border": null,
       "bottom": null,
       "display": null,
       "flex": null,
       "flex_flow": null,
       "grid_area": null,
       "grid_auto_columns": null,
       "grid_auto_flow": null,
       "grid_auto_rows": null,
       "grid_column": null,
       "grid_gap": null,
       "grid_row": null,
       "grid_template_areas": null,
       "grid_template_columns": null,
       "grid_template_rows": null,
       "height": null,
       "justify_content": null,
       "justify_items": null,
       "left": null,
       "margin": null,
       "max_height": null,
       "max_width": null,
       "min_height": null,
       "min_width": null,
       "object_fit": null,
       "object_position": null,
       "order": null,
       "overflow": null,
       "overflow_x": null,
       "overflow_y": null,
       "padding": null,
       "right": null,
       "top": null,
       "visibility": null,
       "width": null
      }
     },
     "ff54e0f201414b03bed7fe363a41fa3f": {
      "model_module": "@jupyter-widgets/controls",
      "model_module_version": "1.5.0",
      "model_name": "HTMLModel",
      "state": {
       "_dom_classes": [],
       "_model_module": "@jupyter-widgets/controls",
       "_model_module_version": "1.5.0",
       "_model_name": "HTMLModel",
       "_view_count": null,
       "_view_module": "@jupyter-widgets/controls",
       "_view_module_version": "1.5.0",
       "_view_name": "HTMLView",
       "description": "",
       "description_tooltip": null,
       "layout": "IPY_MODEL_1934549688884ed78e3c784c586bf2d7",
       "placeholder": "​",
       "style": "IPY_MODEL_d61689eda4144af9b96848bf8a23cf79",
       "value": "Downloading artifacts: 100%"
      }
     }
    },
    "version_major": 2,
    "version_minor": 0
   }
  }
 },
 "nbformat": 4,
 "nbformat_minor": 0
}
